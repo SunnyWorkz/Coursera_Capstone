{
 "cells": [
  {
   "cell_type": "markdown",
   "metadata": {},
   "source": [
    "# Capstone Project - The Battle of Neighborhoods (Week 1)"
   ]
  },
  {
   "cell_type": "markdown",
   "metadata": {},
   "source": [
    "## 1. Introduction"
   ]
  },
  {
   "cell_type": "markdown",
   "metadata": {},
   "source": [
    "The goal of this study is to provide a first insight on what might be a **nice spot to open an Italian restaurant in the municipality of Geneva, Switzerland** by analysing its neighborhoods.\n",
    "\n",
    "This study will be **based on one main criteria**: the **density of competing Italian restaurants in the similar vicinities**, which should be as low as possible (lowest degree of direct competition).\n",
    "\n",
    "Following Wikipedia, we can find herafter some extracts that describe the municipality of Geneva and its surroundings:\n",
    "_\"The municipality of Geneva (ville de Genève) has a population (as of December 2018) of 201,818, and the canton of Geneva (essentially the city and its inner-ring suburbs) has 499,480 residents. [...] Geneva is a global city, a financial centre, and a worldwide centre for diplomacy due to the presence of numerous international organizations, including the headquarters of many agencies of the United Nations and the Red Cross. [...] Geneva was ranked third in purchasing power in a global cities ranking by UBS in 2018.\". The total area of the municipality of Geneva consists of 15.92 km2 [[1]](https://en.wikipedia.org/wiki/Geneva)._\n",
    "\n",
    "Therefore, the municipality of Geneva has a strong concentration of people with a high purchasing power and they might be fond of Italian food. This is the typical kind of environment that we are lookig for in order to maximize the chances of success of the implementation of a new Italian restaurant."
   ]
  },
  {
   "cell_type": "markdown",
   "metadata": {},
   "source": [
    "## 2. Data"
   ]
  },
  {
   "cell_type": "markdown",
   "metadata": {},
   "source": [
    "For our study, we get neighborhoods and their description here : [Discover Geneva and its districts](https://www.geneve.ch/en/what-geneva/discover-geneva-districts). \n",
    "\n",
    "Based on that, we input neighborhood names in **Google Map**. Then we use the option \"Nearby\" and zoom in on the pin, right click and select \"What's here\" to get an approximation of each neighborhood's centers. This allows us to retrieve the corresponding latitudes and longitudes. Since neighborhoods consist of two or three sub neighborhoods merged, we choose to get two or three centers for the corresponding super neighborhood. This information is then stored into a CSV file. Nota bene, some neighborhood centers were slighlty moved to better fit the density of the neighborhood in terms of venues.\n",
    "\n",
    "To obtain the type and the density of Italian restaurants per vicinity, we use the **Foursquare API.**\n",
    "\n",
    "With this information we are going to be able to compare neighborhoods in terms of similiraty and in terms of Italian restaurant density. This will guide our recommendation for which neighborhood should be prefered to implement an Italian restaurant."
   ]
  }
 ],
 "metadata": {
  "kernelspec": {
   "display_name": "Python 3.6",
   "language": "python",
   "name": "python3"
  },
  "language_info": {
   "codemirror_mode": {
    "name": "ipython",
    "version": 3
   },
   "file_extension": ".py",
   "mimetype": "text/x-python",
   "name": "python",
   "nbconvert_exporter": "python",
   "pygments_lexer": "ipython3",
   "version": "3.6.9"
  }
 },
 "nbformat": 4,
 "nbformat_minor": 1
}
